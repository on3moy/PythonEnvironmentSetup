{
 "cells": [
  {
   "cell_type": "code",
   "execution_count": 10,
   "metadata": {},
   "outputs": [
    {
     "name": "stdout",
     "output_type": "stream",
     "text": [
      "Error: ModuleNotFoundError - No module named 'numpy'\n",
      "You need to pip install 'numpy'\n",
      "\n",
      "\n",
      "Error: ModuleNotFoundError - No module named 'pandas'\n",
      "You need to pip install 'pandas'\n",
      "\n",
      "\n"
     ]
    }
   ],
   "source": [
    "# Testing imports\n",
    "try:\n",
    "    import numpy\n",
    "except Exception as error:\n",
    "    print(f'Error: {type(error).__name__} - {error}')\n",
    "    print(f'You need to pip install {str(error).split()[3]}')\n",
    "    print('\\n')\n",
    "\n",
    "try:\n",
    "    import pandas\n",
    "except Exception as error:\n",
    "    print(f'Error: {type(error).__name__} - {error}')\n",
    "    print(f'You need to pip install {str(error).split()[3]}')\n",
    "    print('\\n')"
   ]
  }
 ],
 "metadata": {
  "kernelspec": {
   "display_name": "venv",
   "language": "python",
   "name": "python3"
  },
  "language_info": {
   "codemirror_mode": {
    "name": "ipython",
    "version": 3
   },
   "file_extension": ".py",
   "mimetype": "text/x-python",
   "name": "python",
   "nbconvert_exporter": "python",
   "pygments_lexer": "ipython3",
   "version": "3.11.4"
  },
  "orig_nbformat": 4
 },
 "nbformat": 4,
 "nbformat_minor": 2
}
